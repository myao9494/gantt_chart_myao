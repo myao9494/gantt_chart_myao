{
 "cells": [
  {
   "cell_type": "code",
   "execution_count": null,
   "id": "11d60d23",
   "metadata": {},
   "outputs": [],
   "source": [
    "%matplotlib inline"
   ]
  },
  {
   "cell_type": "code",
   "execution_count": null,
   "id": "aef831b5",
   "metadata": {
    "lines_to_next_cell": 0
   },
   "outputs": [],
   "source": [
    "#---------------------------class ------------------------------------\n",
    "# -*- coding: utf-8; py-indent-offset:4 -*-"
   ]
  },
  {
   "cell_type": "markdown",
   "id": "9fd05e4f",
   "metadata": {
    "lines_to_next_cell": 0
   },
   "source": [
    "\n",
    "Copyright (C) ***\n",
    "\n",
    "##############################################################################"
   ]
  },
  {
   "cell_type": "code",
   "execution_count": null,
   "id": "91817c0d",
   "metadata": {},
   "outputs": [],
   "source": [
    "import local_strage\n",
    "import json\n",
    "import pandas as pd\n",
    "from selenium import webdriver\n",
    "import os\n",
    "\n",
    "module_path = os.path.dirname(__file__)\n",
    "\n",
    "class gantt(object):\n",
    "    '''\n",
    "    自分自身が使いやすい環境を構築する\n",
    "    '''\n",
    "    def __init__(self,pro_name=\"default\"):\n",
    "        self.driver = webdriver.Chrome('chromedriver')\n",
    "        self.driver.get('http://localhost:1337/')\n",
    "        self.storage = local_strage.LocalStorage(self.driver)\n",
    "        self.data_path = os.path.join(module_path,\"data\")\n",
    "        self.pro = pro_name\n",
    "    \n",
    "    def save_data(self,pro_name):\n",
    "        self.pro = pro_name\n",
    "        task = self.storage[\"task\"]\n",
    "        task =json.loads(task)\n",
    "        self.df_task = pd.DataFrame(task)\n",
    "        df_dic = self.df_task[[\"id\"]].copy()\n",
    "        df_dic[\"sin_id\"] = f\"{self.pro}_\" + (df_dic.index + 1).astype(\"str\")\n",
    "        df_dic = df_dic.astype(\"str\")\n",
    "        dic = dict(df_dic.set_index(\"id\")[\"sin_id\"])\n",
    "        self.df_task = self.df_task.astype(\"str\")\n",
    "        self.df_task[\"id\"] = self.df_task[\"id\"].map(dic)\n",
    "        self.df_task[\"parent\"] = self.df_task[\"parent\"].map(dic)\n",
    "        self.df_task.to_csv(os.path.join(self.data_path,f\"{self.pro}.csv\"),index=False)\n",
    "        self.df_task.to_excel(os.path.join(self.data_path,f\"{self.pro}.xlsx\"),index=False)\n",
    "        self.driver.refresh()\n",
    "\n",
    "    def db_to_gantt(self,pro_name):\n",
    "        self.pro = pro_name\n",
    "        df_task_edit = pd.read_csv(os.path.join(self.data_path,f\"{self.pro}.csv\"))\n",
    "        df_task_edit[\"kind_task\"] = df_task_edit[\"kind_task\"].astype(\"str\")\n",
    "        out_json = df_task_edit.to_json(orient='records')\n",
    "        self.storage.set(\"task\", out_json)\n",
    "        self.driver.refresh()\n",
    "\n",
    "    def quit(self):\n",
    "        self.driver.quit()\n",
    "        self.driver.refresh()\n",
    "    \n",
    "    def clear_all(self):\n",
    "        self.storage.clear()\n",
    "        self.driver.refresh()"
   ]
  }
 ],
 "metadata": {
  "jupytext": {
   "cell_metadata_filter": "-all",
   "notebook_metadata_filter": "-all"
  },
  "kernelspec": {
   "display_name": "blender",
   "language": "python",
   "name": "blender"
  },
  "language_info": {
   "codemirror_mode": {
    "name": "ipython",
    "version": 3
   },
   "file_extension": ".py",
   "mimetype": "text/x-python",
   "name": "python",
   "nbconvert_exporter": "python",
   "pygments_lexer": "ipython3",
   "version": "3.9.2"
  },
  "toc": {
   "base_numbering": 1,
   "nav_menu": {},
   "number_sections": true,
   "sideBar": true,
   "skip_h1_title": false,
   "title_cell": "Table of Contents",
   "title_sidebar": "Contents",
   "toc_cell": false,
   "toc_position": {},
   "toc_section_display": true,
   "toc_window_display": false
  }
 },
 "nbformat": 4,
 "nbformat_minor": 5
}
