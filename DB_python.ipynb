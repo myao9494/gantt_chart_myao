{
 "cells": [
  {
   "cell_type": "code",
   "execution_count": 1,
   "id": "bca54bca",
   "metadata": {},
   "outputs": [],
   "source": [
    "from sqlalchemy import create_engine, MetaData, Table, Column, Integer, String,DATETIME\n",
    "from sqlalchemy.dialects.mysql import insert\n",
    "import pandas as pd\n",
    "# import utility"
   ]
  },
  {
   "cell_type": "code",
   "execution_count": 3,
   "id": "8addc640",
   "metadata": {},
   "outputs": [],
   "source": [
    "class db_con(object):\n",
    "    '''\n",
    "    pythonからmysqlのDBへアクセスする\n",
    "    '''\n",
    "    def __init__(self):\n",
    "        pd.set_option(\"display.max_colwidth\",10000)\n",
    "        pd.set_option('display.max_rows', 500)\n",
    "        self.user=\"root\"\n",
    "        self.password=\"\"\n",
    "        self.host=\"localhost\"\n",
    "        self.port=3306\n",
    "        self.database_1 =\"gantt_howto_node\"\n",
    "        self.url_1 = f'mysql+pymysql://{self.user}:{self.password}@{self.host}:{self.port}/{self.database_1}?charset=utf8'\n",
    "        self.engine_1 = create_engine(self.url_1,echo=False)\n",
    "\n",
    "    def create_db(self):\n",
    "        query = \"select * from gantt_tasks\"\n",
    "        self.df = pd.read_sql(query,con=self.engine_1)\n",
    "        return self.df\n",
    "\n",
    "    def move_task(self,taisho_start,nobasu_day):\n",
    "#         if not hasattr(self,\"df\"):\n",
    "        self.create_db()\n",
    "        df_taisho = self.df.copy()\n",
    "        df_taisho = df_taisho[df_taisho[\"start_date\"]==taisho_start]\n",
    "        df_taisho[\"start_date\"] = df_taisho[\"start_date\"] + pd.Timedelta(days = nobasu_day)\n",
    "        \n",
    "        if len(df_taisho) != 0:\n",
    "            metadata_1 = MetaData()\n",
    "            metadata_1.bind = self.engine_1\n",
    "            menus = Table(\n",
    "              'gantt_tasks', metadata_1,\n",
    "              Column('id', Integer, primary_key=True),\n",
    "              Column('start_date', DATETIME),\n",
    "            )\n",
    "\n",
    "            conn = self.engine_1.connect()\n",
    "\n",
    "            for index in range(len(df_taisho)):\n",
    "                rec = df_taisho.iloc[index:index+1][[\"id\",\"start_date\"]].to_dict(\"records\")\n",
    "                insert_stmt = insert(menus).values(rec)\n",
    "                on_duplicate_key_stmt = insert_stmt.on_duplicate_key_update(\n",
    "                    start_date=insert_stmt.inserted.start_date\n",
    "                )\n",
    "                conn.execute(on_duplicate_key_stmt)\n",
    "#                 print(index,rec)\n",
    "            conn.close()\n",
    "        else:\n",
    "            print(\"０件でした\")"
   ]
  },
  {
   "cell_type": "markdown",
   "id": "1ccad06c",
   "metadata": {},
   "source": [
    "## test"
   ]
  },
  {
   "cell_type": "code",
   "execution_count": 4,
   "id": "df72631e",
   "metadata": {},
   "outputs": [],
   "source": [
    "# self = db_con()\n",
    "\n",
    "# # self.create_db()\n",
    "\n",
    "# taisho_start = \"2022-07-11\"\n",
    "# nobasu_day = -7\n",
    "# self.move_task(taisho_start,nobasu_day)\n",
    "\n"
   ]
  }
 ],
 "metadata": {
  "kernelspec": {
   "display_name": "Python 3 (ipykernel)",
   "language": "python",
   "name": "python3"
  },
  "language_info": {
   "codemirror_mode": {
    "name": "ipython",
    "version": 3
   },
   "file_extension": ".py",
   "mimetype": "text/x-python",
   "name": "python",
   "nbconvert_exporter": "python",
   "pygments_lexer": "ipython3",
   "version": "3.9.6"
  },
  "toc": {
   "base_numbering": 1,
   "nav_menu": {},
   "number_sections": true,
   "sideBar": true,
   "skip_h1_title": false,
   "title_cell": "Table of Contents",
   "title_sidebar": "Contents",
   "toc_cell": false,
   "toc_position": {},
   "toc_section_display": true,
   "toc_window_display": false
  }
 },
 "nbformat": 4,
 "nbformat_minor": 5
}
