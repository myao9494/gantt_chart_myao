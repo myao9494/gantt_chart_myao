{
 "cells": [
  {
   "cell_type": "code",
   "execution_count": 28,
   "id": "bca54bca",
   "metadata": {},
   "outputs": [],
   "source": [
    "from sqlalchemy import create_engine, MetaData, Table, Column, Integer, String,DATETIME\n",
    "from sqlalchemy.dialects.mysql import insert\n",
    "import pandas as pd\n",
    "# import utility"
   ]
  },
  {
   "cell_type": "code",
   "execution_count": 29,
   "id": "8addc640",
   "metadata": {},
   "outputs": [],
   "source": [
    "class db_con(object):\n",
    "    '''\n",
    "    pythonからmysqlのDBへアクセスする\n",
    "    '''\n",
    "    def __init__(self):\n",
    "        pd.set_option(\"display.max_colwidth\",10000)\n",
    "        pd.set_option('display.max_rows', 500)\n",
    "        self.user=\"root\"\n",
    "        self.password=\"\"\n",
    "        self.host=\"localhost\"\n",
    "        self.port=3306\n",
    "        self.database_1 =\"gantt_howto_node\"\n",
    "        self.url_1 = f'mysql+pymysql://{self.user}:{self.password}@{self.host}:{self.port}/{self.database_1}?charset=utf8'\n",
    "        self.engine_1 = create_engine(self.url_1,echo=False)\n",
    "\n",
    "    def create_db(self):\n",
    "        query = \"select * from gantt_tasks\"\n",
    "        self.df = pd.read_sql(query,con=self.engine_1)\n",
    "        return self.df\n",
    "\n",
    "    def move_task(self,taisho_start,nobasu_day):\n",
    "#         if not hasattr(self,\"df\"):\n",
    "        self.create_db()\n",
    "        df_taisho = self.df.copy()\n",
    "        df_taisho = df_taisho[df_taisho[\"start_date\"]==taisho_start]\n",
    "        df_taisho[\"start_date\"] = df_taisho[\"start_date\"] + pd.Timedelta(days = nobasu_day)\n",
    "        \n",
    "        if len(df_taisho) != 0:\n",
    "            metadata_1 = MetaData()\n",
    "            metadata_1.bind = self.engine_1\n",
    "            menus = Table(\n",
    "              'gantt_tasks', metadata_1,\n",
    "              Column('id', Integer, primary_key=True),\n",
    "              Column('start_date', DATETIME),\n",
    "            )\n",
    "\n",
    "            conn = self.engine_1.connect()\n",
    "\n",
    "            for index in range(len(df_taisho)):\n",
    "                rec = df_taisho.iloc[index:index+1][[\"id\",\"start_date\"]].to_dict(\"records\")\n",
    "                insert_stmt = insert(menus).values(rec)\n",
    "                on_duplicate_key_stmt = insert_stmt.on_duplicate_key_update(\n",
    "                    start_date=insert_stmt.inserted.start_date\n",
    "                )\n",
    "                conn.execute(on_duplicate_key_stmt)\n",
    "#                 print(index,rec)\n",
    "            conn.close()\n",
    "        else:\n",
    "            print(\"０件でした\")"
   ]
  },
  {
   "cell_type": "markdown",
   "id": "1ccad06c",
   "metadata": {},
   "source": [
    "## test"
   ]
  },
  {
   "cell_type": "code",
   "execution_count": 31,
   "id": "093b9f51",
   "metadata": {},
   "outputs": [],
   "source": [
    "df_taisho = pd.DataFrame([{'id': 107, 'task_schedule': '2022-7-22,上西内科,1,___'}\n",
    "])"
   ]
  },
  {
   "cell_type": "code",
   "execution_count": 32,
   "id": "6001c416",
   "metadata": {},
   "outputs": [
    {
     "data": {
      "text/html": [
       "<div>\n",
       "<style scoped>\n",
       "    .dataframe tbody tr th:only-of-type {\n",
       "        vertical-align: middle;\n",
       "    }\n",
       "\n",
       "    .dataframe tbody tr th {\n",
       "        vertical-align: top;\n",
       "    }\n",
       "\n",
       "    .dataframe thead th {\n",
       "        text-align: right;\n",
       "    }\n",
       "</style>\n",
       "<table border=\"1\" class=\"dataframe\">\n",
       "  <thead>\n",
       "    <tr style=\"text-align: right;\">\n",
       "      <th></th>\n",
       "      <th>id</th>\n",
       "      <th>task_schedule</th>\n",
       "    </tr>\n",
       "  </thead>\n",
       "  <tbody>\n",
       "    <tr>\n",
       "      <th>0</th>\n",
       "      <td>107</td>\n",
       "      <td>2022-7-22,上西内科,1,___</td>\n",
       "    </tr>\n",
       "  </tbody>\n",
       "</table>\n",
       "</div>"
      ],
      "text/plain": [
       "    id         task_schedule\n",
       "0  107  2022-7-22,上西内科,1,___"
      ]
     },
     "execution_count": 32,
     "metadata": {},
     "output_type": "execute_result"
    }
   ],
   "source": [
    "df_taisho"
   ]
  },
  {
   "cell_type": "code",
   "execution_count": 30,
   "id": "df72631e",
   "metadata": {},
   "outputs": [],
   "source": [
    "self = db_con()\n",
    "\n",
    "# # self.create_db()\n",
    "\n",
    "# taisho_start = \"2022-07-11\"\n",
    "# nobasu_day = -7\n",
    "# self.move_task(taisho_start,nobasu_day)\n",
    "\n"
   ]
  },
  {
   "cell_type": "code",
   "execution_count": null,
   "id": "8a43f619",
   "metadata": {},
   "outputs": [],
   "source": [
    "retu_mei = \"task_schedule\""
   ]
  },
  {
   "cell_type": "code",
   "execution_count": 37,
   "id": "4b861ddc",
   "metadata": {},
   "outputs": [],
   "source": [
    "metadata_1 = MetaData()\n",
    "metadata_1.bind = self.engine_1\n",
    "menus = Table(\n",
    "  'gantt_tasks', metadata_1,\n",
    "  Column('id', Integer, primary_key=True),\n",
    "  Column(retu_mei, DATETIME),\n",
    ")"
   ]
  },
  {
   "cell_type": "code",
   "execution_count": 38,
   "id": "2386c14d",
   "metadata": {},
   "outputs": [],
   "source": [
    "conn = self.engine_1.connect()\n"
   ]
  },
  {
   "cell_type": "code",
   "execution_count": 42,
   "id": "18aefa7a",
   "metadata": {},
   "outputs": [],
   "source": [
    "rec = df_taisho.iloc[index:index+1][[\"id\",retu_mei]].to_dict(\"records\")\n",
    "insert_stmt = insert(menus).values(rec)\n"
   ]
  },
  {
   "cell_type": "code",
   "execution_count": 43,
   "id": "f36cf94b",
   "metadata": {},
   "outputs": [],
   "source": [
    "command = f\"on_duplicate_key_stmt = insert_stmt.on_duplicate_key_update({retu_mei}=insert_stmt.inserted.{retu_mei})\""
   ]
  },
  {
   "cell_type": "code",
   "execution_count": 44,
   "id": "73c45180",
   "metadata": {},
   "outputs": [],
   "source": [
    "exec(command)"
   ]
  },
  {
   "cell_type": "code",
   "execution_count": 45,
   "id": "c76b3274",
   "metadata": {},
   "outputs": [
    {
     "data": {
      "text/plain": [
       "<sqlalchemy.engine.cursor.LegacyCursorResult at 0x1376c9100>"
      ]
     },
     "execution_count": 45,
     "metadata": {},
     "output_type": "execute_result"
    }
   ],
   "source": [
    "conn.execute(on_duplicate_key_stmt)"
   ]
  },
  {
   "cell_type": "code",
   "execution_count": null,
   "id": "cdd2bcb9",
   "metadata": {},
   "outputs": [],
   "source": []
  }
 ],
 "metadata": {
  "kernelspec": {
   "display_name": "Python 3 (ipykernel)",
   "language": "python",
   "name": "python3"
  },
  "language_info": {
   "codemirror_mode": {
    "name": "ipython",
    "version": 3
   },
   "file_extension": ".py",
   "mimetype": "text/x-python",
   "name": "python",
   "nbconvert_exporter": "python",
   "pygments_lexer": "ipython3",
   "version": "3.9.6"
  },
  "toc": {
   "base_numbering": 1,
   "nav_menu": {},
   "number_sections": true,
   "sideBar": true,
   "skip_h1_title": false,
   "title_cell": "Table of Contents",
   "title_sidebar": "Contents",
   "toc_cell": false,
   "toc_position": {},
   "toc_section_display": true,
   "toc_window_display": false
  }
 },
 "nbformat": 4,
 "nbformat_minor": 5
}
