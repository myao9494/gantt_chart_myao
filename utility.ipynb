{
 "cells": [
  {
   "cell_type": "code",
   "execution_count": 1,
   "id": "12136f9d",
   "metadata": {},
   "outputs": [],
   "source": [
    "def translate_js_date(input_date,js_opp=True):\n",
    "    if js_opp:\n",
    "        n = -1\n",
    "    else:\n",
    "        n = 1\n",
    "    li = input_date.split(\"-\")\n",
    "    month = '{:0=2}'.format(int(li[1])+n)\n",
    "    return  f\"{li[0]}-{month}-{li[2]}\""
   ]
  },
  {
   "cell_type": "code",
   "execution_count": null,
   "id": "28d7f9b0",
   "metadata": {},
   "outputs": [],
   "source": []
  }
 ],
 "metadata": {
  "kernelspec": {
   "display_name": "Python 3 (ipykernel)",
   "language": "python",
   "name": "python3"
  },
  "language_info": {
   "codemirror_mode": {
    "name": "ipython",
    "version": 3
   },
   "file_extension": ".py",
   "mimetype": "text/x-python",
   "name": "python",
   "nbconvert_exporter": "python",
   "pygments_lexer": "ipython3",
   "version": "3.12.4"
  },
  "toc": {
   "base_numbering": 1,
   "nav_menu": {},
   "number_sections": true,
   "sideBar": true,
   "skip_h1_title": false,
   "title_cell": "Table of Contents",
   "title_sidebar": "Contents",
   "toc_cell": false,
   "toc_position": {},
   "toc_section_display": true,
   "toc_window_display": false
  }
 },
 "nbformat": 4,
 "nbformat_minor": 5
}
