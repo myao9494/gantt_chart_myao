{
 "cells": [
  {
   "cell_type": "code",
   "execution_count": 7,
   "id": "183ac137",
   "metadata": {},
   "outputs": [],
   "source": [
    "var li_a = [];"
   ]
  },
  {
   "cell_type": "code",
   "execution_count": 18,
   "id": "070df4d1",
   "metadata": {},
   "outputs": [],
   "source": [
    "var list_yotei =[\n",
    "    [48,\"部活\",new Date(2022,6,9),3,222222],\n",
    "    [48,\"部活\",new Date(2022,6,18),1,222222],\n",
    "    [48,\"終業式\",new Date(2022,6,20),1,222222],\n",
    "    [15,\"音楽会\",new Date(2022,6,24),1,222222],\n",
    "    [66,\"排水管掃除\",new Date(2022,6,16),1,222222],\n",
    "    [15,\"python研修\",new Date(2022,6,13),3,222222],\n",
    "]\n"
   ]
  },
  {
   "cell_type": "code",
   "execution_count": 61,
   "id": "7b5c8f6b",
   "metadata": {},
   "outputs": [
    {
     "name": "stdout",
     "output_type": "stream",
     "text": [
      "\u001b[35m2022-07-08T15:00:00.000Z\u001b[39m\n",
      "\u001b[35m2022-07-17T15:00:00.000Z\u001b[39m\n",
      "\u001b[35m2022-07-19T15:00:00.000Z\u001b[39m\n",
      "\u001b[35m2022-07-23T15:00:00.000Z\u001b[39m\n",
      "\u001b[35m2022-07-15T15:00:00.000Z\u001b[39m\n",
      "\u001b[35m2022-07-12T15:00:00.000Z\u001b[39m\n"
     ]
    }
   ],
   "source": [
    "for (const element of list_yotei) {\n",
    "   console.log(new Date((element[2])));\n",
    "}"
   ]
  },
  {
   "cell_type": "code",
   "execution_count": 62,
   "id": "80a1c329",
   "metadata": {},
   "outputs": [
    {
     "name": "stdout",
     "output_type": "stream",
     "text": [
      "\u001b[35m2022-07-17T15:00:00.000Z\u001b[39m\n"
     ]
    }
   ],
   "source": [
    "new Date(\"2022-07-17T15:00:00.000Z\")"
   ]
  },
  {
   "cell_type": "code",
   "execution_count": 20,
   "id": "60c17409",
   "metadata": {},
   "outputs": [],
   "source": [
    "var li, out_li;\n",
    "li = [\"ss\", \"ssss\"];\n",
    "out_li = [];\n",
    "\n",
    "for (var i, _pj_c = 0, _pj_a = list_yotei, _pj_b = _pj_a.length; _pj_c < _pj_b; _pj_c += 1) {\n",
    "    i = _pj_a[_pj_c];\n",
    "    out_li.push(i)\n",
    "    \n",
    "//     out_li.\n",
    "//   out_li.append(i);\n",
    "}\n"
   ]
  },
  {
   "cell_type": "code",
   "execution_count": 16,
   "id": "96d896b7",
   "metadata": {},
   "outputs": [
    {
     "name": "stdout",
     "output_type": "stream",
     "text": [
      "[\n",
      "  [ \u001b[33m48\u001b[39m, \u001b[32m'部活'\u001b[39m, \u001b[35m2022-07-08T15:00:00.000Z\u001b[39m, \u001b[33m3\u001b[39m, \u001b[33m222222\u001b[39m ],\n",
      "  [ \u001b[33m48\u001b[39m, \u001b[32m'部活'\u001b[39m, \u001b[35m2022-07-17T15:00:00.000Z\u001b[39m, \u001b[33m1\u001b[39m, \u001b[33m222222\u001b[39m ],\n",
      "  [ \u001b[33m48\u001b[39m, \u001b[32m'終業式'\u001b[39m, \u001b[35m2022-07-19T15:00:00.000Z\u001b[39m, \u001b[33m1\u001b[39m, \u001b[33m222222\u001b[39m ],\n",
      "  [ \u001b[33m15\u001b[39m, \u001b[32m'音楽会'\u001b[39m, \u001b[35m2022-07-23T15:00:00.000Z\u001b[39m, \u001b[33m1\u001b[39m, \u001b[33m222222\u001b[39m ],\n",
      "  [ \u001b[33m66\u001b[39m, \u001b[32m'排水管掃除'\u001b[39m, \u001b[35m2022-07-15T15:00:00.000Z\u001b[39m, \u001b[33m1\u001b[39m, \u001b[33m222222\u001b[39m ],\n",
      "  [ \u001b[33m15\u001b[39m, \u001b[32m'python研修'\u001b[39m, \u001b[35m2022-07-12T15:00:00.000Z\u001b[39m, \u001b[33m1\u001b[39m, \u001b[33m222222\u001b[39m ]\n",
      "]\n"
     ]
    }
   ],
   "source": [
    "out_li"
   ]
  },
  {
   "cell_type": "code",
   "execution_count": null,
   "id": "fb129cc2",
   "metadata": {},
   "outputs": [],
   "source": [
    "date.setDate( date.getDate() + 1);\n"
   ]
  }
 ],
 "metadata": {
  "kernelspec": {
   "display_name": "JavaScript",
   "language": "javascript",
   "name": "jslab"
  },
  "language_info": {
   "file_extension": ".js",
   "mimetype": "text/javascript",
   "name": "javascript",
   "version": ""
  },
  "toc": {
   "base_numbering": 1,
   "nav_menu": {},
   "number_sections": true,
   "sideBar": true,
   "skip_h1_title": false,
   "title_cell": "Table of Contents",
   "title_sidebar": "Contents",
   "toc_cell": false,
   "toc_position": {},
   "toc_section_display": true,
   "toc_window_display": false
  }
 },
 "nbformat": 4,
 "nbformat_minor": 5
}
