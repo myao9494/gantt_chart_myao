{
 "cells": [
  {
   "cell_type": "code",
   "execution_count": 12,
   "id": "8b5833f8",
   "metadata": {},
   "outputs": [],
   "source": [
    "! open ."
   ]
  },
  {
   "cell_type": "code",
   "execution_count": 13,
   "id": "3e169ae4",
   "metadata": {},
   "outputs": [],
   "source": [
    "! code ."
   ]
  },
  {
   "cell_type": "markdown",
   "id": "f481cc06",
   "metadata": {},
   "source": [
    "# 日付をずらす"
   ]
  },
  {
   "cell_type": "code",
   "execution_count": 2,
   "id": "72d3c78d",
   "metadata": {},
   "outputs": [
    {
     "name": "stdout",
     "output_type": "stream",
     "text": [
      "処理中のレコード: {'id': 6, 'start_date': Timestamp('2024-09-02 00:00:00')}\n",
      "更新結果: 2行影響\n",
      "処理中のレコード: {'id': 7, 'start_date': Timestamp('2024-09-02 00:00:00')}\n",
      "更新結果: 2行影響\n",
      "処理中のレコード: {'id': 9, 'start_date': Timestamp('2024-09-02 00:00:00')}\n",
      "更新結果: 2行影響\n",
      "処理中のレコード: {'id': 33, 'start_date': Timestamp('2024-09-02 00:00:00')}\n",
      "更新結果: 2行影響\n",
      "処理中のレコード: {'id': 46, 'start_date': Timestamp('2024-09-02 00:00:00')}\n",
      "更新結果: 2行影響\n",
      "処理中のレコード: {'id': 47, 'start_date': Timestamp('2024-09-02 00:00:00')}\n",
      "更新結果: 2行影響\n",
      "処理中のレコード: {'id': 53, 'start_date': Timestamp('2024-09-02 00:00:00')}\n",
      "更新結果: 2行影響\n",
      "7件処理しました\n",
      "2024-09-02\n"
     ]
    }
   ],
   "source": [
    "import DB_python ; obj = DB_python.db_con()\n",
    "\n",
    "taisho_start = \"2024-8-26\"\n",
    "nobasu_day = 7\n",
    "obj.move_task(taisho_start,nobasu_day)"
   ]
  },
  {
   "cell_type": "markdown",
   "id": "0ce019a8",
   "metadata": {},
   "source": [
    "# GSSからgatttへ入れる"
   ]
  },
  {
   "cell_type": "code",
   "execution_count": 6,
   "id": "1cc1f7a1",
   "metadata": {},
   "outputs": [
    {
     "name": "stdout",
     "output_type": "stream",
     "text": [
      "2024-08-31,2024年8月31日U-NEXT株主優待期限,1,___2024-08-11,8/11 合宿の買物_前日(おかし、昼食),1,___2024-08-12,8月12日から3泊4日　合宿,1,___2024-08-19,Apple Music解約,1,___2024-08-27,アマゾンのポイント確認,1,___2024-08-17,アンソロピック解約,1,___2024-07-28,オンライン数学ゼミ,1,___2024-08-02,オンライン数学ゼミ,1,___2024-08-04,オンライン数学ゼミ,1,___2024-08-09,オンライン数学ゼミ,1,___2024-07-29,オンライン数学ゼミ・総復習講座・英語・理科特訓,1,___2024-08-01,オンライン数学ゼミ・総復習講座・英語・理科特訓,1,___2024-08-05,オンライン数学ゼミ・総復習講座・英語・理科特訓,1,___2024-08-08,オンライン数学ゼミ・総復習講座・英語・理科特訓,1,___2024-08-16,ピアノ休,1,___2024-08-01,マツキヨのポイントが付いていることを確認する。株主優待,1,___2024-08-01,マーチャント・バンカーズをクロスする,1,___2024-09-12,中間テスト,1,___2024-08-05,免許の講習,1,___2024-08-22,内申対策講座,2,___2024-08-26,内申対策講座,3,___2024-08-19,出校日,1,___2024-09-02,始業式,1,___2024-09-03,実力テスト,1,___2024-09-03,小牧プレミアム商品券販売開始,1,___2024-08-11,昼食 初盆集合,1,___2024-08-14,楽天の株主優待申し込み期限 027768887,1,___2024-07-29,権利確定日 逆日歩1日,1,___2024-08-16,権利確定日 逆日歩1日,1,___2024-08-28,権利確定日 逆日歩3日,1,___2024-09-18,権利確定日 逆日歩4日,1,___2024-09-18,歯医者,1,___2024-07-28,浅田さんに返信,1,___2024-07-28,百日法要,1,___2024-07-30,総復習講座・英語・理科特訓,1,___2024-08-06,総復習講座・英語・理科特訓,1,___2024-08-10,総復習講座・英語・理科特訓,1,___2024-08-18,総復習講座・英語・理科特訓,3,___2024-07-31,美容院,1,___2024-08-01,部活,1,___2024-08-05,部活,1,___2024-08-07,部活,1,___2024-08-09,部活,1,___2024-08-20,部活,2,___2024-08-23,部活,1,___2024-08-26,部活,3,___\n"
     ]
    }
   ],
   "source": [
    "import DB_python ,my_utility; self = DB_python.db_con();df = self.create_db();df_sc = df[[\"id\",\"text\",\"task_schedule\"]].copy().dropna();df_sc = df_sc[df_sc[\"task_schedule\"]!=\"\"]\n",
    "import sys;sys.path.append(\"../mylib\");import gss_my;gss_my.print_schedule(60,df_sc)"
   ]
  },
  {
   "cell_type": "code",
   "execution_count": 7,
   "id": "c9e007de",
   "metadata": {
    "lines_to_next_cell": 2
   },
   "outputs": [
    {
     "data": {
      "application/vnd.jupyter.widget-view+json": {
       "model_id": "eb8f3e8e45d2478da484d21b01ac31f8",
       "version_major": 2,
       "version_minor": 0
      },
      "text/plain": [
       "QgridWidget(grid_options={'fullWidthRows': True, 'syncColumnCellResize': True, 'forceFitColumns': True, 'defau…"
      ]
     },
     "metadata": {},
     "output_type": "display_data"
    }
   ],
   "source": [
    "qg = my_utility.qgid_local(df_sc);qg"
   ]
  },
  {
   "cell_type": "code",
   "execution_count": 9,
   "id": "24738d64",
   "metadata": {},
   "outputs": [],
   "source": [
    "df_sc_edit = qg.get_changed_df()"
   ]
  },
  {
   "cell_type": "code",
   "execution_count": 10,
   "id": "3736e4e2",
   "metadata": {},
   "outputs": [
    {
     "data": {
      "text/html": [
       "<div>\n",
       "<style scoped>\n",
       "    .dataframe tbody tr th:only-of-type {\n",
       "        vertical-align: middle;\n",
       "    }\n",
       "\n",
       "    .dataframe tbody tr th {\n",
       "        vertical-align: top;\n",
       "    }\n",
       "\n",
       "    .dataframe thead th {\n",
       "        text-align: right;\n",
       "    }\n",
       "</style>\n",
       "<table border=\"1\" class=\"dataframe\">\n",
       "  <thead>\n",
       "    <tr style=\"text-align: right;\">\n",
       "      <th></th>\n",
       "      <th>id</th>\n",
       "      <th>text</th>\n",
       "      <th>task_schedule</th>\n",
       "    </tr>\n",
       "  </thead>\n",
       "  <tbody>\n",
       "    <tr>\n",
       "      <th>3</th>\n",
       "      <td>15</td>\n",
       "      <td>予定、定期的、メモ</td>\n",
       "      <td>2024-07-27,音楽会,1,___2024-08-05,免許更新,1,___</td>\n",
       "    </tr>\n",
       "    <tr>\n",
       "      <th>16</th>\n",
       "      <td>48</td>\n",
       "      <td>家関係、学校関係</td>\n",
       "      <td>2024-07-22,部活,4,___</td>\n",
       "    </tr>\n",
       "    <tr>\n",
       "      <th>42</th>\n",
       "      <td>140</td>\n",
       "      <td>病院・健康系</td>\n",
       "      <td>2024-08-02,上西内科,1,___</td>\n",
       "    </tr>\n",
       "    <tr>\n",
       "      <th>108</th>\n",
       "      <td>212</td>\n",
       "      <td>桜花系</td>\n",
       "      <td>2024-06-29,6月29日統一テスト,1,___2024-08-16,ピアノ休,1,__2024-08-19,出校日,1,___</td>\n",
       "    </tr>\n",
       "    <tr>\n",
       "      <th>142</th>\n",
       "      <td>251</td>\n",
       "      <td>本 マーケットの魔術師\\t5/26まで</td>\n",
       "      <td>2024-5-26,返却,1</td>\n",
       "    </tr>\n",
       "  </tbody>\n",
       "</table>\n",
       "</div>"
      ],
      "text/plain": [
       "      id                 text  \\\n",
       "3     15            予定、定期的、メモ   \n",
       "16    48             家関係、学校関係   \n",
       "42   140               病院・健康系   \n",
       "108  212                  桜花系   \n",
       "142  251  本 マーケットの魔術師\\t5/26まで   \n",
       "\n",
       "                                                           task_schedule  \n",
       "3                              2024-07-27,音楽会,1,___2024-08-05,免許更新,1,___  \n",
       "16                                                   2024-07-22,部活,4,___  \n",
       "42                                                 2024-08-02,上西内科,1,___  \n",
       "108  2024-06-29,6月29日統一テスト,1,___2024-08-16,ピアノ休,1,__2024-08-19,出校日,1,___  \n",
       "142                                                       2024-5-26,返却,1  "
      ]
     },
     "execution_count": 10,
     "metadata": {},
     "output_type": "execute_result"
    }
   ],
   "source": [
    "df_sc_edit"
   ]
  },
  {
   "cell_type": "code",
   "execution_count": null,
   "id": "b3f578b3",
   "metadata": {},
   "outputs": [],
   "source": []
  },
  {
   "cell_type": "code",
   "execution_count": 4,
   "id": "32587ace",
   "metadata": {},
   "outputs": [
    {
     "name": "stderr",
     "output_type": "stream",
     "text": [
      "/Users/myao9494/000_Google_drive/000_work/mylib/my_utility.py:176: FutureWarning: Passing a set as an indexer is deprecated and will raise in a future version. Use a list instead.\n",
      "  df_add_index = df_mod.loc[set_add_index]\n",
      "/Users/myao9494/000_Google_drive/000_work/mylib/my_utility.py:177: FutureWarning: Passing a set as an indexer is deprecated and will raise in a future version. Use a list instead.\n",
      "  df_add_col = df_mod.loc[:, set_add_col]\n",
      "/Users/myao9494/000_Google_drive/000_work/mylib/my_utility.py:180: FutureWarning: Passing a set as an indexer is deprecated and will raise in a future version. Use a list instead.\n",
      "  df_del_index = df.loc[set_del_index]\n",
      "/Users/myao9494/000_Google_drive/000_work/mylib/my_utility.py:181: FutureWarning: Passing a set as an indexer is deprecated and will raise in a future version. Use a list instead.\n",
      "  df_del_col = df.loc[:, set_del_col]\n"
     ]
    }
   ],
   "source": [
    "df_comp, df_add_index, _, df_del_index, _ = my_utility.df_compare(df_sc,df_sc_edit)"
   ]
  },
  {
   "cell_type": "code",
   "execution_count": 5,
   "id": "345fdbd2",
   "metadata": {},
   "outputs": [
    {
     "data": {
      "text/html": [
       "<div>\n",
       "<style scoped>\n",
       "    .dataframe tbody tr th:only-of-type {\n",
       "        vertical-align: middle;\n",
       "    }\n",
       "\n",
       "    .dataframe tbody tr th {\n",
       "        vertical-align: top;\n",
       "    }\n",
       "\n",
       "    .dataframe thead tr th {\n",
       "        text-align: left;\n",
       "    }\n",
       "</style>\n",
       "<table border=\"1\" class=\"dataframe\">\n",
       "  <thead>\n",
       "    <tr>\n",
       "      <th></th>\n",
       "      <th colspan=\"2\" halign=\"left\">task_schedule</th>\n",
       "    </tr>\n",
       "    <tr>\n",
       "      <th></th>\n",
       "      <th>前</th>\n",
       "      <th>後</th>\n",
       "    </tr>\n",
       "  </thead>\n",
       "  <tbody>\n",
       "    <tr>\n",
       "      <th>3</th>\n",
       "      <td>2024-07-12,排水管清掃休暇取得型,1,___2024-07-23,免許更新の期限,1,___2024-07-27,音楽会,1,___2024-07-13,消防用設備点検,1,___024-07-28,百日法要,1,___</td>\n",
       "      <td>2024-07-15,7/15花火,1,___2024-07-23,免許更新の期限,1,___2024-07-27,音楽会,1,___2024-07-16,免許更新,1,___2024-07-24,高砂出張,1,___</td>\n",
       "    </tr>\n",
       "  </tbody>\n",
       "</table>\n",
       "</div>"
      ],
      "text/plain": [
       "                                                                                                         task_schedule  \\\n",
       "                                                                                                                     前   \n",
       "3  2024-07-12,排水管清掃休暇取得型,1,___2024-07-23,免許更新の期限,1,___2024-07-27,音楽会,1,___2024-07-13,消防用設備点検,1,___024-07-28,百日法要,1,___   \n",
       "\n",
       "                                                                                                                  \n",
       "                                                                                                               後  \n",
       "3  2024-07-15,7/15花火,1,___2024-07-23,免許更新の期限,1,___2024-07-27,音楽会,1,___2024-07-16,免許更新,1,___2024-07-24,高砂出張,1,___  "
      ]
     },
     "execution_count": 5,
     "metadata": {},
     "output_type": "execute_result"
    }
   ],
   "source": [
    "df_comp"
   ]
  },
  {
   "cell_type": "code",
   "execution_count": 6,
   "id": "6c8418f6",
   "metadata": {},
   "outputs": [
    {
     "data": {
      "text/html": [
       "<div>\n",
       "<style scoped>\n",
       "    .dataframe tbody tr th:only-of-type {\n",
       "        vertical-align: middle;\n",
       "    }\n",
       "\n",
       "    .dataframe tbody tr th {\n",
       "        vertical-align: top;\n",
       "    }\n",
       "\n",
       "    .dataframe thead th {\n",
       "        text-align: right;\n",
       "    }\n",
       "</style>\n",
       "<table border=\"1\" class=\"dataframe\">\n",
       "  <thead>\n",
       "    <tr style=\"text-align: right;\">\n",
       "      <th></th>\n",
       "      <th>id</th>\n",
       "      <th>text</th>\n",
       "      <th>task_schedule</th>\n",
       "    </tr>\n",
       "  </thead>\n",
       "  <tbody>\n",
       "  </tbody>\n",
       "</table>\n",
       "</div>"
      ],
      "text/plain": [
       "Empty DataFrame\n",
       "Columns: [id, text, task_schedule]\n",
       "Index: []"
      ]
     },
     "execution_count": 6,
     "metadata": {},
     "output_type": "execute_result"
    }
   ],
   "source": [
    "df_add_index"
   ]
  },
  {
   "cell_type": "code",
   "execution_count": 7,
   "id": "9b9b6eef",
   "metadata": {},
   "outputs": [
    {
     "data": {
      "text/html": [
       "<div>\n",
       "<style scoped>\n",
       "    .dataframe tbody tr th:only-of-type {\n",
       "        vertical-align: middle;\n",
       "    }\n",
       "\n",
       "    .dataframe tbody tr th {\n",
       "        vertical-align: top;\n",
       "    }\n",
       "\n",
       "    .dataframe thead th {\n",
       "        text-align: right;\n",
       "    }\n",
       "</style>\n",
       "<table border=\"1\" class=\"dataframe\">\n",
       "  <thead>\n",
       "    <tr style=\"text-align: right;\">\n",
       "      <th></th>\n",
       "      <th>id</th>\n",
       "      <th>text</th>\n",
       "      <th>task_schedule</th>\n",
       "    </tr>\n",
       "  </thead>\n",
       "  <tbody>\n",
       "  </tbody>\n",
       "</table>\n",
       "</div>"
      ],
      "text/plain": [
       "Empty DataFrame\n",
       "Columns: [id, text, task_schedule]\n",
       "Index: []"
      ]
     },
     "execution_count": 7,
     "metadata": {},
     "output_type": "execute_result"
    }
   ],
   "source": [
    "df_del_index"
   ]
  },
  {
   "cell_type": "code",
   "execution_count": 8,
   "id": "e8582e98",
   "metadata": {},
   "outputs": [
    {
     "name": "stdout",
     "output_type": "stream",
     "text": [
      "3\n"
     ]
    }
   ],
   "source": [
    "for index in list(df_comp.index):\n",
    "    print(index)\n",
    "    taisho = df_sc_edit.loc[[index]]\n",
    "    out = self.to_db(taisho,\"task_schedule\")"
   ]
  },
  {
   "cell_type": "code",
   "execution_count": 9,
   "id": "420cc8c2",
   "metadata": {},
   "outputs": [],
   "source": [
    "if len(df_add_index) != 0:\n",
    "    out = self.to_db(df_add_index,\"task_schedule\")"
   ]
  },
  {
   "cell_type": "code",
   "execution_count": 10,
   "id": "b8698bbf",
   "metadata": {},
   "outputs": [],
   "source": [
    "if len(df_del_index) != 0:\n",
    "    df_del_index[\"task_schedule\"] = \"\"\n",
    "    out = self.to_db(df_del_index,\"task_schedule\")"
   ]
  },
  {
   "cell_type": "markdown",
   "id": "51513e23",
   "metadata": {},
   "source": [
    "# 買物リスト\n",
    "\n",
    "以下のサイトから買物リストをコピーして、コードを実行する。結果、クリップボードに入るので、GSSへ貼り付ける\n",
    "\n",
    "https://www.amazon.co.jp/alexaquantum/sp/alexaShoppingList?ref=nav_asl"
   ]
  },
  {
   "cell_type": "code",
   "execution_count": 11,
   "id": "842b7059",
   "metadata": {},
   "outputs": [
    {
     "data": {
      "text/plain": [
       "'https://www.youtube.com/watch?v=JTEgUha58T8&t=0s'"
      ]
     },
     "execution_count": 11,
     "metadata": {},
     "output_type": "execute_result"
    }
   ],
   "source": [
    "import pyperclip\n",
    "import pandas as pd\n",
    "text = pyperclip.paste()\n",
    "text"
   ]
  },
  {
   "cell_type": "code",
   "execution_count": 2,
   "id": "cee29b09",
   "metadata": {
    "lines_to_next_cell": 0,
    "scrolled": true
   },
   "outputs": [],
   "source": [
    "# textから買物リストを作成する\n",
    "items_corrected = []\n",
    "for block in text.strip().split('\\n\\n'):\n",
    "    lines = block.split('\\n')\n",
    "    if len(lines) > 0 and \"追加されました\" not in lines[0]:  # 「追加されました」を含まない最初の行をアイテムとして認識\n",
    "        items_corrected.append(lines[0].strip())\n",
    "        \n",
    "nuki_list = ['メインコンテンツにスキップ','すべてのカテゴリー', 'お客様の閲覧履歴に含まれている商品を閲覧した人は、こんな商品も見ています', 'トップへ戻る']\n",
    "for i in nuki_list:\n",
    "    try:\n",
    "        items_corrected.remove(i)\n",
    "    except:\n",
    "        pass\n",
    "    \n",
    "# データフレームを作成する\n",
    "shopping_list_df = pd.DataFrame({\n",
    "    '商品名': items_corrected,\n",
    "    'temp_1': [\"\"]* len(items_corrected),\n",
    "    'temp_2': [\"買物\"]* len(items_corrected),\n",
    "    '急がない': [True] * len(items_corrected)  # 各商品にTrueを設定\n",
    "})\n",
    "\n",
    "shopping_list_df.to_clipboard(index=False,header=False)\n"
   ]
  },
  {
   "cell_type": "markdown",
   "id": "4aa1f29c",
   "metadata": {},
   "source": [
    "# [四季報](http://localhost:8888/notebooks/stock_app/TOP.ipynb)"
   ]
  },
  {
   "cell_type": "code",
   "execution_count": null,
   "id": "8ede3c01",
   "metadata": {
    "lines_to_next_cell": 2
   },
   "outputs": [],
   "source": []
  }
 ],
 "metadata": {
  "kernelspec": {
   "display_name": "Python 3 (ipykernel)",
   "language": "python",
   "name": "python3"
  },
  "language_info": {
   "codemirror_mode": {
    "name": "ipython",
    "version": 3
   },
   "file_extension": ".py",
   "mimetype": "text/x-python",
   "name": "python",
   "nbconvert_exporter": "python",
   "pygments_lexer": "ipython3",
   "version": "3.12.4"
  },
  "toc": {
   "base_numbering": 1,
   "nav_menu": {},
   "number_sections": true,
   "sideBar": true,
   "skip_h1_title": false,
   "title_cell": "Table of Contents",
   "title_sidebar": "Contents",
   "toc_cell": false,
   "toc_position": {},
   "toc_section_display": true,
   "toc_window_display": true
  }
 },
 "nbformat": 4,
 "nbformat_minor": 5
}
