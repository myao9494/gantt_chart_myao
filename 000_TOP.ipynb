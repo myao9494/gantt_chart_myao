{
 "cells": [
  {
   "cell_type": "code",
   "execution_count": 1,
   "id": "8b5833f8",
   "metadata": {},
   "outputs": [],
   "source": [
    "! open ."
   ]
  },
  {
   "cell_type": "code",
   "execution_count": 141,
   "id": "3e169ae4",
   "metadata": {},
   "outputs": [],
   "source": [
    "! code ."
   ]
  },
  {
   "cell_type": "markdown",
   "id": "37121200",
   "metadata": {},
   "source": [
    "# link"
   ]
  },
  {
   "cell_type": "markdown",
   "id": "e53a3cb1",
   "metadata": {},
   "source": [
    "[github](https://github.com/myao9494/gantt_chart_myao)"
   ]
  },
  {
   "cell_type": "markdown",
   "id": "6642580d",
   "metadata": {},
   "source": [
    "# factory"
   ]
  },
  {
   "cell_type": "markdown",
   "id": "1f00dba3",
   "metadata": {},
   "source": [
    "## 日付をずらす"
   ]
  },
  {
   "cell_type": "code",
   "execution_count": 7,
   "id": "e8d9bd4b",
   "metadata": {},
   "outputs": [],
   "source": [
    "import DB_python ; obj = DB_python.db_con()"
   ]
  },
  {
   "cell_type": "code",
   "execution_count": 8,
   "id": "204462d5",
   "metadata": {},
   "outputs": [
    {
     "name": "stdout",
     "output_type": "stream",
     "text": [
      "0 [{'id': 7, 'start_date': Timestamp('2022-07-04 00:00:00')}]\n",
      "1 [{'id': 8, 'start_date': Timestamp('2022-07-04 00:00:00')}]\n",
      "2 [{'id': 9, 'start_date': Timestamp('2022-07-04 00:00:00')}]\n",
      "3 [{'id': 14, 'start_date': Timestamp('2022-07-04 00:00:00')}]\n",
      "4 [{'id': 15, 'start_date': Timestamp('2022-07-04 00:00:00')}]\n",
      "5 [{'id': 20, 'start_date': Timestamp('2022-07-04 00:00:00')}]\n",
      "6 [{'id': 22, 'start_date': Timestamp('2022-07-04 00:00:00')}]\n",
      "7 [{'id': 25, 'start_date': Timestamp('2022-07-04 00:00:00')}]\n",
      "8 [{'id': 26, 'start_date': Timestamp('2022-07-04 00:00:00')}]\n",
      "9 [{'id': 27, 'start_date': Timestamp('2022-07-04 00:00:00')}]\n",
      "10 [{'id': 28, 'start_date': Timestamp('2022-07-04 00:00:00')}]\n",
      "11 [{'id': 32, 'start_date': Timestamp('2022-07-04 00:00:00')}]\n",
      "12 [{'id': 34, 'start_date': Timestamp('2022-07-04 00:00:00')}]\n",
      "13 [{'id': 43, 'start_date': Timestamp('2022-07-04 00:00:00')}]\n",
      "14 [{'id': 44, 'start_date': Timestamp('2022-07-04 00:00:00')}]\n",
      "15 [{'id': 45, 'start_date': Timestamp('2022-07-04 00:00:00')}]\n",
      "16 [{'id': 46, 'start_date': Timestamp('2022-07-04 00:00:00')}]\n",
      "17 [{'id': 48, 'start_date': Timestamp('2022-07-04 00:00:00')}]\n",
      "18 [{'id': 54, 'start_date': Timestamp('2022-07-04 00:00:00')}]\n",
      "19 [{'id': 55, 'start_date': Timestamp('2022-07-04 00:00:00')}]\n",
      "20 [{'id': 56, 'start_date': Timestamp('2022-07-04 00:00:00')}]\n",
      "21 [{'id': 64, 'start_date': Timestamp('2022-07-04 00:00:00')}]\n",
      "22 [{'id': 89, 'start_date': Timestamp('2022-07-04 00:00:00')}]\n",
      "23 [{'id': 95, 'start_date': Timestamp('2022-07-04 00:00:00')}]\n"
     ]
    }
   ],
   "source": [
    "taisho_start = \"2022-6-27\"\n",
    "nobasu_day = 7\n",
    "obj.move_task(taisho_start,nobasu_day)"
   ]
  },
  {
   "cell_type": "markdown",
   "id": "fc3984eb",
   "metadata": {},
   "source": [
    "# 予定を作成する"
   ]
  },
  {
   "cell_type": "code",
   "execution_count": null,
   "id": "dac6a421",
   "metadata": {},
   "outputs": [],
   "source": []
  },
  {
   "cell_type": "code",
   "execution_count": null,
   "id": "329974e9",
   "metadata": {},
   "outputs": [],
   "source": []
  },
  {
   "cell_type": "code",
   "execution_count": null,
   "id": "bacdea39",
   "metadata": {},
   "outputs": [],
   "source": []
  },
  {
   "cell_type": "code",
   "execution_count": 9,
   "id": "fd2407c4",
   "metadata": {},
   "outputs": [],
   "source": [
    "import pendulum"
   ]
  },
  {
   "cell_type": "code",
   "execution_count": 4,
   "id": "ca9233ca",
   "metadata": {},
   "outputs": [],
   "source": [
    "date = pendulum.datetime(2022,7,21)\n",
    "yotei = \"部活\"\n",
    "id_num =48"
   ]
  },
  {
   "cell_type": "code",
   "execution_count": 12,
   "id": "fd54125c",
   "metadata": {},
   "outputs": [],
   "source": [
    "out = f'[{str(id_num)},\"{yotei}\",new Date({date.year},{date.month-1},{date.day})],'"
   ]
  },
  {
   "cell_type": "code",
   "execution_count": null,
   "id": "8527d08c",
   "metadata": {},
   "outputs": [],
   "source": []
  },
  {
   "cell_type": "code",
   "execution_count": null,
   "id": "65e618bc",
   "metadata": {},
   "outputs": [],
   "source": []
  },
  {
   "cell_type": "markdown",
   "id": "27ea64ae",
   "metadata": {},
   "source": [
    "## 過去"
   ]
  },
  {
   "cell_type": "code",
   "execution_count": 36,
   "id": "5dce3db4",
   "metadata": {},
   "outputs": [],
   "source": [
    "import Gantt_control\n",
    "self = Gantt_control.gantt()"
   ]
  },
  {
   "cell_type": "code",
   "execution_count": 32,
   "id": "74f24022",
   "metadata": {},
   "outputs": [],
   "source": [
    "self.save_data(\"default\")"
   ]
  },
  {
   "cell_type": "markdown",
   "id": "8dbd90c6",
   "metadata": {},
   "source": [
    "ガントへデータからエクセルへ"
   ]
  },
  {
   "cell_type": "code",
   "execution_count": 40,
   "id": "b71e68e9",
   "metadata": {},
   "outputs": [],
   "source": [
    "self.db_to_gantt(\"default\")"
   ]
  },
  {
   "cell_type": "markdown",
   "id": "c6798f27",
   "metadata": {},
   "source": [
    "df_taskを編集"
   ]
  },
  {
   "cell_type": "code",
   "execution_count": 118,
   "id": "c6d81ad2",
   "metadata": {},
   "outputs": [],
   "source": [
    "! code ."
   ]
  },
  {
   "cell_type": "markdown",
   "id": "8384fa63",
   "metadata": {},
   "source": [
    "編集結果を取得"
   ]
  },
  {
   "cell_type": "markdown",
   "id": "094095d8",
   "metadata": {
    "lines_to_next_cell": 2
   },
   "source": [
    "df_task_edit = pd.read_csv(\"df_task.csv\")"
   ]
  },
  {
   "cell_type": "markdown",
   "id": "2156f093",
   "metadata": {},
   "source": [
    "データを戻す"
   ]
  },
  {
   "cell_type": "code",
   "execution_count": 147,
   "id": "96aaab91",
   "metadata": {},
   "outputs": [],
   "source": []
  },
  {
   "cell_type": "markdown",
   "id": "4141ce5c",
   "metadata": {},
   "source": [
    "完了したら閉じる"
   ]
  },
  {
   "cell_type": "code",
   "execution_count": 35,
   "id": "0be89484",
   "metadata": {},
   "outputs": [],
   "source": []
  },
  {
   "cell_type": "markdown",
   "id": "9d6bf3fb",
   "metadata": {},
   "source": [
    "消す"
   ]
  },
  {
   "cell_type": "code",
   "execution_count": 115,
   "id": "fb7f7a18",
   "metadata": {},
   "outputs": [],
   "source": []
  },
  {
   "cell_type": "code",
   "execution_count": null,
   "id": "6413cfb4",
   "metadata": {},
   "outputs": [],
   "source": []
  }
 ],
 "metadata": {
  "jupytext": {
   "encoding": "# -*- coding: utf-8 -*-"
  },
  "kernelspec": {
   "display_name": "Python 3 (ipykernel)",
   "language": "python",
   "name": "python3"
  },
  "language_info": {
   "codemirror_mode": {
    "name": "ipython",
    "version": 3
   },
   "file_extension": ".py",
   "mimetype": "text/x-python",
   "name": "python",
   "nbconvert_exporter": "python",
   "pygments_lexer": "ipython3",
   "version": "3.9.6"
  },
  "toc": {
   "base_numbering": 1,
   "nav_menu": {},
   "number_sections": true,
   "sideBar": true,
   "skip_h1_title": false,
   "title_cell": "Table of Contents",
   "title_sidebar": "Contents",
   "toc_cell": false,
   "toc_position": {},
   "toc_section_display": true,
   "toc_window_display": false
  }
 },
 "nbformat": 4,
 "nbformat_minor": 5
}
