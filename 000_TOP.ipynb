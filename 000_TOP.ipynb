{
 "cells": [
  {
   "cell_type": "code",
   "execution_count": 12,
   "id": "8b5833f8",
   "metadata": {},
   "outputs": [],
   "source": [
    "! open ."
   ]
  },
  {
   "cell_type": "code",
   "execution_count": 232,
   "id": "3e169ae4",
   "metadata": {},
   "outputs": [],
   "source": [
    "! code ."
   ]
  },
  {
   "cell_type": "markdown",
   "id": "37121200",
   "metadata": {},
   "source": [
    "# link"
   ]
  },
  {
   "cell_type": "markdown",
   "id": "e53a3cb1",
   "metadata": {},
   "source": [
    "[github](https://github.com/myao9494/gantt_chart_myao)"
   ]
  },
  {
   "cell_type": "markdown",
   "id": "bc098460",
   "metadata": {},
   "source": [
    "# 予定を入れる "
   ]
  },
  {
   "cell_type": "markdown",
   "id": "3f1361e4",
   "metadata": {},
   "source": [
    "glideへ入れる"
   ]
  },
  {
   "cell_type": "code",
   "execution_count": 233,
   "id": "74957305",
   "metadata": {},
   "outputs": [],
   "source": [
    "import sys;sys.path.append(\"../mylib\");import gss\n",
    "import pendulum\n",
    "df = gss.create_df()"
   ]
  },
  {
   "cell_type": "markdown",
   "id": "22938e62",
   "metadata": {},
   "source": [
    "チョク"
   ]
  },
  {
   "cell_type": "code",
   "execution_count": 234,
   "id": "96078129",
   "metadata": {},
   "outputs": [
    {
     "data": {
      "text/plain": [
       "(2022, 8, 23, 7, 0, '部活(23~26日)')"
      ]
     },
     "execution_count": 234,
     "metadata": {},
     "output_type": "execute_result"
    }
   ],
   "source": [
    "sch_date = (2022,8,23,7,0,\"部活(23~26日)\")\n",
    "sch_date"
   ]
  },
  {
   "cell_type": "markdown",
   "id": "8ed77edc",
   "metadata": {},
   "source": [
    "文字"
   ]
  },
  {
   "cell_type": "code",
   "execution_count": 235,
   "id": "97ddc317",
   "metadata": {},
   "outputs": [
    {
     "name": "stdout",
     "output_type": "stream",
     "text": [
      "2022年08月16日日 7時0分誕生日\n"
     ]
    },
    {
     "data": {
      "text/plain": [
       "('2022', '08', '16', '7', '0', '誕生日')"
      ]
     },
     "execution_count": 235,
     "metadata": {},
     "output_type": "execute_result"
    }
   ],
   "source": [
    "from Reminder_data_from_ambiguous_information import remind_make; \n",
    "sch_date = remind_make.main(\"明日誕生日\",pendulum.now())\n",
    "sch_date"
   ]
  },
  {
   "cell_type": "markdown",
   "id": "cf2fbb43",
   "metadata": {},
   "source": [
    "入力"
   ]
  },
  {
   "cell_type": "code",
   "execution_count": 6,
   "id": "4d0c8212",
   "metadata": {},
   "outputs": [],
   "source": [
    "i=len(df)+2\n",
    "date = pendulum.datetime(year=int(sch_date[0]),month=int(sch_date[1]),day=int(sch_date[2]),hour=int(sch_date[3]),minute=int(sch_date[4]))"
   ]
  },
  {
   "cell_type": "code",
   "execution_count": 28,
   "id": "0b4d9656",
   "metadata": {},
   "outputs": [
    {
     "data": {
      "text/plain": [
       "{'spreadsheetId': '1WuN2n_WNdhJmTi6q-hwYWDEK7fdHNprE-PTHuTkE7HI',\n",
       " 'updatedRange': \"'スケジュール'!D181\",\n",
       " 'updatedRows': 1,\n",
       " 'updatedColumns': 1,\n",
       " 'updatedCells': 1}"
      ]
     },
     "execution_count": 28,
     "metadata": {},
     "output_type": "execute_result"
    }
   ],
   "source": [
    "worksheet.update_cell(i, 2, str(date)[:-6]+\".000Z\")\n",
    "worksheet.update_cell(i, 3, sch_date[5])\n",
    "worksheet.update_cell(i, 4, \"True\")"
   ]
  },
  {
   "cell_type": "markdown",
   "id": "0ce019a8",
   "metadata": {},
   "source": [
    "## glideからgatttへ入れる"
   ]
  },
  {
   "cell_type": "code",
   "execution_count": 236,
   "id": "642083da",
   "metadata": {},
   "outputs": [
    {
     "name": "stdout",
     "output_type": "stream",
     "text": [
      "2022-08-21,車検の予約　11/15に切れる,1,___2022-08-19,上西内科,1,___2022-08-20,夏祭り,1,___2022-08-17,部活 (8:30~11:30),1,___2022-08-18,部活 (8:30~11:30),1,___\n"
     ]
    }
   ],
   "source": [
    "import sys;sys.path.append(\"../mylib\");import gss;gss.print_week_schedule();import pandas  as pd"
   ]
  },
  {
   "cell_type": "code",
   "execution_count": 1,
   "id": "c9e007de",
   "metadata": {
    "lines_to_next_cell": 2
   },
   "outputs": [
    {
     "data": {
      "application/vnd.jupyter.widget-view+json": {
       "model_id": "f5753096a3434dec8bf9face92dbcfb0",
       "version_major": 2,
       "version_minor": 0
      },
      "text/plain": [
       "QgridWidget(grid_options={'fullWidthRows': True, 'syncColumnCellResize': True, 'forceFitColumns': True, 'defau…"
      ]
     },
     "metadata": {},
     "output_type": "display_data"
    }
   ],
   "source": [
    "import DB_python ,my_utility; self = DB_python.db_con();df = self.create_db();df_sc = df[[\"id\",\"text\",\"task_schedule\"]].copy().dropna();df_sc = df_sc[df_sc[\"task_schedule\"]!=\"\"]\n",
    "qg = my_utility.qgid_local(df_sc);qg"
   ]
  },
  {
   "cell_type": "code",
   "execution_count": 4,
   "id": "32587ace",
   "metadata": {},
   "outputs": [],
   "source": [
    "df_sc_edit = qg.get_changed_df();df_comp, df_add_index, _, df_del_index, _ = my_utility.df_compare(df_sc,df_sc_edit)"
   ]
  },
  {
   "cell_type": "code",
   "execution_count": 5,
   "id": "f4069cda",
   "metadata": {},
   "outputs": [
    {
     "data": {
      "text/html": [
       "<div>\n",
       "<style scoped>\n",
       "    .dataframe tbody tr th:only-of-type {\n",
       "        vertical-align: middle;\n",
       "    }\n",
       "\n",
       "    .dataframe tbody tr th {\n",
       "        vertical-align: top;\n",
       "    }\n",
       "\n",
       "    .dataframe thead tr th {\n",
       "        text-align: left;\n",
       "    }\n",
       "</style>\n",
       "<table border=\"1\" class=\"dataframe\">\n",
       "  <thead>\n",
       "    <tr>\n",
       "      <th></th>\n",
       "      <th colspan=\"2\" halign=\"left\">task_schedule</th>\n",
       "    </tr>\n",
       "    <tr>\n",
       "      <th></th>\n",
       "      <th>前</th>\n",
       "      <th>後</th>\n",
       "    </tr>\n",
       "  </thead>\n",
       "  <tbody>\n",
       "    <tr>\n",
       "      <th>76</th>\n",
       "      <td>2022-8-19,上西内科,1,___眼科</td>\n",
       "      <td>2022-8-19,上西内科,1,___</td>\n",
       "    </tr>\n",
       "  </tbody>\n",
       "</table>\n",
       "</div>"
      ],
      "text/plain": [
       "             task_schedule                      \n",
       "                         前                     後\n",
       "76  2022-8-19,上西内科,1,___眼科  2022-8-19,上西内科,1,___"
      ]
     },
     "execution_count": 5,
     "metadata": {},
     "output_type": "execute_result"
    }
   ],
   "source": [
    "df_comp"
   ]
  },
  {
   "cell_type": "code",
   "execution_count": 6,
   "id": "6c8418f6",
   "metadata": {},
   "outputs": [
    {
     "data": {
      "text/html": [
       "<div>\n",
       "<style scoped>\n",
       "    .dataframe tbody tr th:only-of-type {\n",
       "        vertical-align: middle;\n",
       "    }\n",
       "\n",
       "    .dataframe tbody tr th {\n",
       "        vertical-align: top;\n",
       "    }\n",
       "\n",
       "    .dataframe thead th {\n",
       "        text-align: right;\n",
       "    }\n",
       "</style>\n",
       "<table border=\"1\" class=\"dataframe\">\n",
       "  <thead>\n",
       "    <tr style=\"text-align: right;\">\n",
       "      <th></th>\n",
       "      <th>id</th>\n",
       "      <th>text</th>\n",
       "      <th>task_schedule</th>\n",
       "    </tr>\n",
       "  </thead>\n",
       "  <tbody>\n",
       "  </tbody>\n",
       "</table>\n",
       "</div>"
      ],
      "text/plain": [
       "Empty DataFrame\n",
       "Columns: [id, text, task_schedule]\n",
       "Index: []"
      ]
     },
     "execution_count": 6,
     "metadata": {},
     "output_type": "execute_result"
    }
   ],
   "source": [
    "df_add_index"
   ]
  },
  {
   "cell_type": "code",
   "execution_count": 7,
   "id": "9b9b6eef",
   "metadata": {},
   "outputs": [
    {
     "data": {
      "text/html": [
       "<div>\n",
       "<style scoped>\n",
       "    .dataframe tbody tr th:only-of-type {\n",
       "        vertical-align: middle;\n",
       "    }\n",
       "\n",
       "    .dataframe tbody tr th {\n",
       "        vertical-align: top;\n",
       "    }\n",
       "\n",
       "    .dataframe thead th {\n",
       "        text-align: right;\n",
       "    }\n",
       "</style>\n",
       "<table border=\"1\" class=\"dataframe\">\n",
       "  <thead>\n",
       "    <tr style=\"text-align: right;\">\n",
       "      <th></th>\n",
       "      <th>id</th>\n",
       "      <th>text</th>\n",
       "      <th>task_schedule</th>\n",
       "    </tr>\n",
       "  </thead>\n",
       "  <tbody>\n",
       "  </tbody>\n",
       "</table>\n",
       "</div>"
      ],
      "text/plain": [
       "Empty DataFrame\n",
       "Columns: [id, text, task_schedule]\n",
       "Index: []"
      ]
     },
     "execution_count": 7,
     "metadata": {},
     "output_type": "execute_result"
    }
   ],
   "source": [
    "df_del_index"
   ]
  },
  {
   "cell_type": "code",
   "execution_count": 8,
   "id": "e8582e98",
   "metadata": {},
   "outputs": [
    {
     "name": "stdout",
     "output_type": "stream",
     "text": [
      "76\n"
     ]
    }
   ],
   "source": [
    "for index in list(df_comp.index):\n",
    "    print(index)\n",
    "    taisho = df_sc_edit.loc[[index]]\n",
    "    out = self.to_db(taisho,\"task_schedule\")"
   ]
  },
  {
   "cell_type": "code",
   "execution_count": 9,
   "id": "420cc8c2",
   "metadata": {},
   "outputs": [],
   "source": [
    "if len(df_add_index) != 0:\n",
    "    out = self.to_db(df_add_index,\"task_schedule\")"
   ]
  },
  {
   "cell_type": "code",
   "execution_count": 10,
   "id": "b8698bbf",
   "metadata": {},
   "outputs": [],
   "source": [
    "if len(df_del_index) != 0:\n",
    "    df_del_index[\"task_schedule\"] = \"\"\n",
    "    out = self.to_db(df_del_index,\"task_schedule\")"
   ]
  },
  {
   "cell_type": "markdown",
   "id": "1f00dba3",
   "metadata": {},
   "source": [
    "# 日付をずらす"
   ]
  },
  {
   "cell_type": "code",
   "execution_count": 1,
   "id": "e8d9bd4b",
   "metadata": {},
   "outputs": [],
   "source": [
    "import DB_python ; obj = DB_python.db_con()"
   ]
  },
  {
   "cell_type": "code",
   "execution_count": 4,
   "id": "204462d5",
   "metadata": {},
   "outputs": [
    {
     "name": "stdout",
     "output_type": "stream",
     "text": [
      "33件処理しました\n"
     ]
    }
   ],
   "source": [
    "taisho_start = \"2022-8-15\"\n",
    "nobasu_day = -7\n",
    "obj.move_task(taisho_start,nobasu_day)"
   ]
  },
  {
   "cell_type": "markdown",
   "id": "667298d3",
   "metadata": {},
   "source": [
    "# factory"
   ]
  }
 ],
 "metadata": {
  "jupytext": {
   "encoding": "# -*- coding: utf-8 -*-"
  },
  "kernelspec": {
   "display_name": "Python 3 (ipykernel)",
   "language": "python",
   "name": "python3"
  },
  "language_info": {
   "codemirror_mode": {
    "name": "ipython",
    "version": 3
   },
   "file_extension": ".py",
   "mimetype": "text/x-python",
   "name": "python",
   "nbconvert_exporter": "python",
   "pygments_lexer": "ipython3",
   "version": "3.9.6"
  },
  "toc": {
   "base_numbering": 1,
   "nav_menu": {},
   "number_sections": true,
   "sideBar": true,
   "skip_h1_title": false,
   "title_cell": "Table of Contents",
   "title_sidebar": "Contents",
   "toc_cell": false,
   "toc_position": {},
   "toc_section_display": true,
   "toc_window_display": false
  }
 },
 "nbformat": 4,
 "nbformat_minor": 5
}
