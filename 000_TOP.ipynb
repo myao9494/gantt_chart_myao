{
 "cells": [
  {
   "cell_type": "code",
   "execution_count": 1,
   "id": "8b5833f8",
   "metadata": {},
   "outputs": [],
   "source": [
    "! open ."
   ]
  },
  {
   "cell_type": "markdown",
   "id": "37121200",
   "metadata": {},
   "source": [
    "# link"
   ]
  },
  {
   "cell_type": "markdown",
   "id": "e53a3cb1",
   "metadata": {},
   "source": [
    "[github](https://github.com/myao9494/gantt_chart_myao)"
   ]
  },
  {
   "cell_type": "markdown",
   "id": "6642580d",
   "metadata": {},
   "source": [
    "# factory"
   ]
  },
  {
   "cell_type": "markdown",
   "id": "fc3984eb",
   "metadata": {},
   "source": [
    "## 予定を作成する"
   ]
  },
  {
   "cell_type": "code",
   "execution_count": 2,
   "id": "fd2407c4",
   "metadata": {},
   "outputs": [],
   "source": [
    "import pendulum"
   ]
  },
  {
   "cell_type": "code",
   "execution_count": 4,
   "id": "ca9233ca",
   "metadata": {},
   "outputs": [],
   "source": [
    "date = pendulum.datetime(2022,7,21)\n",
    "yotei = \"部活\"\n",
    "id_num =48"
   ]
  },
  {
   "cell_type": "code",
   "execution_count": 12,
   "id": "fd54125c",
   "metadata": {},
   "outputs": [],
   "source": [
    "out = f'[{str(id_num)},\"{yotei}\",new Date({date.year},{date.month-1},{date.day})],'"
   ]
  },
  {
   "cell_type": "code",
   "execution_count": 13,
   "id": "f2bc8aae",
   "metadata": {},
   "outputs": [
    {
     "data": {
      "text/plain": [
       "'[48,\"部活\",new Date(2022,6,21)],'"
      ]
     },
     "execution_count": 13,
     "metadata": {},
     "output_type": "execute_result"
    }
   ],
   "source": []
  },
  {
   "cell_type": "code",
   "execution_count": null,
   "id": "2668a4e9",
   "metadata": {},
   "outputs": [],
   "source": []
  },
  {
   "cell_type": "code",
   "execution_count": null,
   "id": "89f86b50",
   "metadata": {},
   "outputs": [],
   "source": []
  },
  {
   "cell_type": "code",
   "execution_count": 110,
   "id": "105914cf",
   "metadata": {},
   "outputs": [],
   "source": [
    "import pandas as pd"
   ]
  },
  {
   "cell_type": "code",
   "execution_count": 111,
   "id": "d8bad46a",
   "metadata": {},
   "outputs": [],
   "source": [
    "\n",
    "a = \"3 4 3\"\n",
    "b = \"5 4 3 2\"\n",
    "c = \"1 2 3 4\"\n",
    "d = \"1 2 2 1\""
   ]
  },
  {
   "cell_type": "code",
   "execution_count": 131,
   "id": "35b1c0a8",
   "metadata": {},
   "outputs": [],
   "source": [
    "a = \"3 5 1\"\n",
    "b= \"0 1 1 1 1\"\n",
    "c = \"0 0 1 1 1\"\n",
    "d = \"0 0 0 1 1\""
   ]
  },
  {
   "cell_type": "code",
   "execution_count": 132,
   "id": "4eaad571",
   "metadata": {},
   "outputs": [],
   "source": [
    "li = []"
   ]
  },
  {
   "cell_type": "code",
   "execution_count": 133,
   "id": "2dbdb936",
   "metadata": {},
   "outputs": [],
   "source": [
    "li.append( b.split(\" \"))\n",
    "li.append( c.split(\" \"))\n",
    "li.append( d.split(\" \"))"
   ]
  },
  {
   "cell_type": "code",
   "execution_count": 134,
   "id": "d4f261d3",
   "metadata": {},
   "outputs": [],
   "source": [
    "df = pd.DataFrame(li).astype(\"int\")"
   ]
  },
  {
   "cell_type": "code",
   "execution_count": 135,
   "id": "24de366b",
   "metadata": {},
   "outputs": [
    {
     "data": {
      "text/html": [
       "<div>\n",
       "<style scoped>\n",
       "    .dataframe tbody tr th:only-of-type {\n",
       "        vertical-align: middle;\n",
       "    }\n",
       "\n",
       "    .dataframe tbody tr th {\n",
       "        vertical-align: top;\n",
       "    }\n",
       "\n",
       "    .dataframe thead th {\n",
       "        text-align: right;\n",
       "    }\n",
       "</style>\n",
       "<table border=\"1\" class=\"dataframe\">\n",
       "  <thead>\n",
       "    <tr style=\"text-align: right;\">\n",
       "      <th></th>\n",
       "      <th>0</th>\n",
       "      <th>1</th>\n",
       "      <th>2</th>\n",
       "      <th>3</th>\n",
       "      <th>4</th>\n",
       "    </tr>\n",
       "  </thead>\n",
       "  <tbody>\n",
       "    <tr>\n",
       "      <th>0</th>\n",
       "      <td>0</td>\n",
       "      <td>1</td>\n",
       "      <td>1</td>\n",
       "      <td>1</td>\n",
       "      <td>1</td>\n",
       "    </tr>\n",
       "    <tr>\n",
       "      <th>1</th>\n",
       "      <td>0</td>\n",
       "      <td>0</td>\n",
       "      <td>1</td>\n",
       "      <td>1</td>\n",
       "      <td>1</td>\n",
       "    </tr>\n",
       "    <tr>\n",
       "      <th>2</th>\n",
       "      <td>0</td>\n",
       "      <td>0</td>\n",
       "      <td>0</td>\n",
       "      <td>1</td>\n",
       "      <td>1</td>\n",
       "    </tr>\n",
       "  </tbody>\n",
       "</table>\n",
       "</div>"
      ],
      "text/plain": [
       "   0  1  2  3  4\n",
       "0  0  1  1  1  1\n",
       "1  0  0  1  1  1\n",
       "2  0  0  0  1  1"
      ]
     },
     "execution_count": 135,
     "metadata": {},
     "output_type": "execute_result"
    }
   ],
   "source": [
    "df"
   ]
  },
  {
   "cell_type": "code",
   "execution_count": 136,
   "id": "3ace4b65",
   "metadata": {},
   "outputs": [],
   "source": [
    "top = int(a.split(\" \")[0])-1\n",
    "gyo =  int(a.split(\" \")[2])"
   ]
  },
  {
   "cell_type": "code",
   "execution_count": 140,
   "id": "58441f4d",
   "metadata": {},
   "outputs": [
    {
     "data": {
      "text/plain": [
       "1"
      ]
     },
     "execution_count": 140,
     "metadata": {},
     "output_type": "execute_result"
    }
   ],
   "source": [
    "gyo"
   ]
  },
  {
   "cell_type": "code",
   "execution_count": 139,
   "id": "95eb98c7",
   "metadata": {},
   "outputs": [
    {
     "name": "stdout",
     "output_type": "stream",
     "text": [
      "1 1 3\n",
      "1\n"
     ]
    }
   ],
   "source": [
    "out = 0\n",
    "yoko_1 = top-1\n",
    "yoko_2 = top+1\n",
    "for i in range(gyo):\n",
    "#     print(i)\n",
    "    if i == 0:\n",
    "        temp = df.iloc[0,top]\n",
    "    else:\n",
    "        temp = df.iloc[i,yoko_1:yoko_2+1].sum()\n",
    "        yoko_1 = yoko_1-1\n",
    "        if yoko_1 <0:\n",
    "            yoko_1 = 0\n",
    "        yoko_2 = yoko_2+1\n",
    "    print(temp,yoko_1,yoko_2)\n",
    "    out = out +temp\n",
    "print(out)"
   ]
  },
  {
   "cell_type": "code",
   "execution_count": 106,
   "id": "61fcea42",
   "metadata": {
    "scrolled": true
   },
   "outputs": [
    {
     "data": {
      "text/plain": [
       "2"
      ]
     },
     "execution_count": 106,
     "metadata": {},
     "output_type": "execute_result"
    }
   ],
   "source": []
  },
  {
   "cell_type": "code",
   "execution_count": 102,
   "id": "bfc1425a",
   "metadata": {
    "scrolled": true
   },
   "outputs": [
    {
     "data": {
      "text/plain": [
       "1"
      ]
     },
     "execution_count": 102,
     "metadata": {},
     "output_type": "execute_result"
    }
   ],
   "source": [
    "df.iloc[i,yoko_1:yoko_2+1].sum()"
   ]
  },
  {
   "cell_type": "code",
   "execution_count": 96,
   "id": "c9e7023f",
   "metadata": {},
   "outputs": [
    {
     "data": {
      "text/plain": [
       "9"
      ]
     },
     "execution_count": 96,
     "metadata": {},
     "output_type": "execute_result"
    }
   ],
   "source": [
    "df.iloc[0,1:6].sum()"
   ]
  },
  {
   "cell_type": "code",
   "execution_count": 71,
   "id": "4b1c7478",
   "metadata": {},
   "outputs": [
    {
     "data": {
      "text/plain": [
       "1    2\n",
       "2    3\n",
       "3    4\n",
       "Name: 2, dtype: object"
      ]
     },
     "execution_count": 71,
     "metadata": {},
     "output_type": "execute_result"
    }
   ],
   "source": [
    "df.iloc[2,1:6]"
   ]
  },
  {
   "cell_type": "code",
   "execution_count": 49,
   "id": "efeabd9c",
   "metadata": {},
   "outputs": [
    {
     "ename": "SyntaxError",
     "evalue": "unexpected EOF while parsing (926723485.py, line 1)",
     "output_type": "error",
     "traceback": [
      "\u001b[0;36m  File \u001b[0;32m\"/var/folders/xs/ryx995dd64q5y13vc9xlyybc0000gn/T/ipykernel_27125/926723485.py\"\u001b[0;36m, line \u001b[0;32m1\u001b[0m\n\u001b[0;31m    df.iloc[1,[tg-1]\u001b[0m\n\u001b[0m                    ^\u001b[0m\n\u001b[0;31mSyntaxError\u001b[0m\u001b[0;31m:\u001b[0m unexpected EOF while parsing\n"
     ]
    }
   ],
   "source": [
    "df.iloc[1,[tg-1]"
   ]
  },
  {
   "cell_type": "code",
   "execution_count": null,
   "id": "8527d08c",
   "metadata": {},
   "outputs": [],
   "source": []
  },
  {
   "cell_type": "code",
   "execution_count": null,
   "id": "65e618bc",
   "metadata": {},
   "outputs": [],
   "source": []
  },
  {
   "cell_type": "markdown",
   "id": "27ea64ae",
   "metadata": {},
   "source": [
    "## 過去"
   ]
  },
  {
   "cell_type": "code",
   "execution_count": 36,
   "id": "5dce3db4",
   "metadata": {},
   "outputs": [],
   "source": [
    "import Gantt_control\n",
    "self = Gantt_control.gantt()"
   ]
  },
  {
   "cell_type": "code",
   "execution_count": 32,
   "id": "74f24022",
   "metadata": {},
   "outputs": [],
   "source": [
    "self.save_data(\"default\")"
   ]
  },
  {
   "cell_type": "markdown",
   "id": "8dbd90c6",
   "metadata": {},
   "source": [
    "ガントへデータからエクセルへ"
   ]
  },
  {
   "cell_type": "code",
   "execution_count": 40,
   "id": "b71e68e9",
   "metadata": {},
   "outputs": [],
   "source": [
    "self.db_to_gantt(\"default\")"
   ]
  },
  {
   "cell_type": "markdown",
   "id": "c6798f27",
   "metadata": {},
   "source": [
    "df_taskを編集"
   ]
  },
  {
   "cell_type": "code",
   "execution_count": 118,
   "id": "c6d81ad2",
   "metadata": {},
   "outputs": [],
   "source": [
    "! code ."
   ]
  },
  {
   "cell_type": "markdown",
   "id": "8384fa63",
   "metadata": {},
   "source": [
    "編集結果を取得"
   ]
  },
  {
   "cell_type": "markdown",
   "id": "094095d8",
   "metadata": {
    "lines_to_next_cell": 2
   },
   "source": [
    "df_task_edit = pd.read_csv(\"df_task.csv\")"
   ]
  },
  {
   "cell_type": "markdown",
   "id": "2156f093",
   "metadata": {},
   "source": [
    "データを戻す"
   ]
  },
  {
   "cell_type": "code",
   "execution_count": 147,
   "id": "96aaab91",
   "metadata": {},
   "outputs": [],
   "source": []
  },
  {
   "cell_type": "markdown",
   "id": "4141ce5c",
   "metadata": {},
   "source": [
    "完了したら閉じる"
   ]
  },
  {
   "cell_type": "code",
   "execution_count": 35,
   "id": "0be89484",
   "metadata": {},
   "outputs": [],
   "source": []
  },
  {
   "cell_type": "markdown",
   "id": "9d6bf3fb",
   "metadata": {},
   "source": [
    "消す"
   ]
  },
  {
   "cell_type": "code",
   "execution_count": 115,
   "id": "fb7f7a18",
   "metadata": {},
   "outputs": [],
   "source": []
  },
  {
   "cell_type": "code",
   "execution_count": null,
   "id": "6413cfb4",
   "metadata": {},
   "outputs": [],
   "source": []
  }
 ],
 "metadata": {
  "jupytext": {
   "encoding": "# -*- coding: utf-8 -*-"
  },
  "kernelspec": {
   "display_name": "Python 3 (ipykernel)",
   "language": "python",
   "name": "python3"
  },
  "language_info": {
   "codemirror_mode": {
    "name": "ipython",
    "version": 3
   },
   "file_extension": ".py",
   "mimetype": "text/x-python",
   "name": "python",
   "nbconvert_exporter": "python",
   "pygments_lexer": "ipython3",
   "version": "3.9.6"
  },
  "toc": {
   "base_numbering": 1,
   "nav_menu": {},
   "number_sections": true,
   "sideBar": true,
   "skip_h1_title": false,
   "title_cell": "Table of Contents",
   "title_sidebar": "Contents",
   "toc_cell": false,
   "toc_position": {},
   "toc_section_display": true,
   "toc_window_display": false
  }
 },
 "nbformat": 4,
 "nbformat_minor": 5
}
