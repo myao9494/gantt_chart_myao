{
 "cells": [
  {
   "cell_type": "code",
   "execution_count": 1,
   "id": "b9281f42",
   "metadata": {},
   "outputs": [],
   "source": [
    "import re\n",
    "import utility\n",
    "import pandas as pd"
   ]
  },
  {
   "cell_type": "markdown",
   "id": "abb221f9",
   "metadata": {},
   "source": [
    "スケジュールのjsを読み込み"
   ]
  },
  {
   "cell_type": "code",
   "execution_count": 2,
   "id": "051202fa",
   "metadata": {},
   "outputs": [],
   "source": [
    "with open(r\"public/schedule.js\") as f:\n",
    "    li = f.readlines()\n",
    "\n",
    "header = ['\\n', '// 予定\\n', '\\n', 'var list_yotei =[\\n']\n",
    "\n",
    "footer = [ '\\n',']\\n']\n",
    "\n",
    "naka_header = \"    [\"\n",
    "naka_footer = \"],\\n\"\n",
    "\n",
    "naka = li[4:]\n",
    "naka = naka[:-2]\n",
    "\n",
    "out = []\n",
    "for tex in naka:\n",
    "    search_result = re.findall(r'(?<=\\[).+?(?=\\])', tex)\n",
    "    tex = search_result[0]\n",
    "    id_num = tex.split(\",\")[0]\n",
    "    naiyo = re.findall(r'(?<=\\\").+?(?=\\\")', tex)[0]\n",
    "    nitiji = re.findall(r'(?<=new Date\\().+?(?=\\))', tex)[0]\n",
    "    nitiji = nitiji.replace(\",\",\"-\")\n",
    "    nitiji = utility.translate_js_date(nitiji,js_opp=False)\n",
    "    nisu = tex.split(\",\")[-2]\n",
    "    biko = tex.split(\",\")[-1]\n",
    "    out.append([id_num,naiyo,nitiji,nisu,biko])\n",
    "\n",
    "df = pd.DataFrame(out,columns=[\"id_num\",\"名称\",\"年月日\",\"日数\",\"備考\"])"
   ]
  },
  {
   "cell_type": "markdown",
   "id": "8651d912",
   "metadata": {},
   "source": [
    "スケジュールをdfに追加したらり、編集したりする"
   ]
  },
  {
   "cell_type": "code",
   "execution_count": null,
   "id": "8564d704",
   "metadata": {},
   "outputs": [],
   "source": []
  },
  {
   "cell_type": "markdown",
   "id": "e79913d2",
   "metadata": {},
   "source": [
    "元に戻す"
   ]
  },
  {
   "cell_type": "code",
   "execution_count": 4,
   "id": "1bd67c15",
   "metadata": {},
   "outputs": [],
   "source": [
    "df[\"年月日\"] = df[\"年月日\"].apply(utility.translate_js_date)\n",
    "\n",
    "df[\"out\"] = naka_header + df[\"id_num\"] +',\"' + df[\"名称\"] + '\", new Date(' + df[\"年月日\"].str.replace(\"-\",\",\")  + ') ,' + df[\"日数\"] + \",\" + \\\n",
    "                        df[\"備考\"] + naka_footer\n",
    "\n",
    "out_list = header + list(df[\"out\"]) + footer\n",
    "# out_list\n",
    "\n",
    "with open(r\"public/test.js\", 'w') as f:\n",
    "    for d in out_list:\n",
    "        f.write(\"%s\" % d)"
   ]
  },
  {
   "cell_type": "code",
   "execution_count": null,
   "id": "3e86818d",
   "metadata": {},
   "outputs": [],
   "source": []
  }
 ],
 "metadata": {
  "kernelspec": {
   "display_name": "Python 3 (ipykernel)",
   "language": "python",
   "name": "python3"
  },
  "language_info": {
   "codemirror_mode": {
    "name": "ipython",
    "version": 3
   },
   "file_extension": ".py",
   "mimetype": "text/x-python",
   "name": "python",
   "nbconvert_exporter": "python",
   "pygments_lexer": "ipython3",
   "version": "3.9.6"
  },
  "toc": {
   "base_numbering": 1,
   "nav_menu": {},
   "number_sections": true,
   "sideBar": true,
   "skip_h1_title": false,
   "title_cell": "Table of Contents",
   "title_sidebar": "Contents",
   "toc_cell": false,
   "toc_position": {},
   "toc_section_display": true,
   "toc_window_display": false
  }
 },
 "nbformat": 4,
 "nbformat_minor": 5
}
